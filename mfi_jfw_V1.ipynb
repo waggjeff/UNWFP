{
 "cells": [
  {
   "cell_type": "markdown",
   "id": "875edb8b",
   "metadata": {},
   "source": [
    "## Market Functionality Index Analysis\n",
    "\n",
    "We want to reproduce the Market Functionality Index (MFI) analysis, including spider charts. \n",
    "\n",
    "\n",
    "### Import required packages "
   ]
  },
  {
   "cell_type": "code",
   "execution_count": 1,
   "id": "de1f99c4",
   "metadata": {},
   "outputs": [],
   "source": [
    "# import the required packages \n",
    "import plotly.express as px\n",
    "import pandas as pd\n",
    "from numpy import nan\n",
    "from ipywidgets import interact, interactive\n",
    "from statistics import mean\n",
    "import math\n",
    "import warnings\n",
    "warnings.filterwarnings('ignore')"
   ]
  },
  {
   "cell_type": "markdown",
   "id": "554d1f87",
   "metadata": {},
   "source": [
    "### Read and format survey data"
   ]
  },
  {
   "cell_type": "code",
   "execution_count": 2,
   "id": "2f689fdf",
   "metadata": {},
   "outputs": [],
   "source": [
    "# read in the market survey results \n",
    "df = pd.read_csv(\"MFI_Full_v1_9_2023_08_11_05_04_03_725269-group-name-removed.csv\")\n",
    "#df.columns.values"
   ]
  },
  {
   "cell_type": "code",
   "execution_count": 3,
   "id": "e64755d5",
   "metadata": {},
   "outputs": [],
   "source": [
    "# Examine variables in detail\n",
    "#print(df.ShopSize.min(),df.ShopSize.mean(),df.ShopSize.max())\n",
    "#df.MktTrdSkuNb_Cl.unique()"
   ]
  },
  {
   "cell_type": "code",
   "execution_count": 4,
   "id": "ac2b6ed8",
   "metadata": {},
   "outputs": [],
   "source": [
    "# check the names of all of the markets that have been surveyed, and create an array of unique values\n",
    "Markets = df.MarketName.unique()"
   ]
  },
  {
   "cell_type": "code",
   "execution_count": 5,
   "id": "c5a66d11",
   "metadata": {},
   "outputs": [],
   "source": [
    "# change the column names of important model queries \n",
    "# Note that - there are multiple E1 and E2 variables in the xlsx spreadsheet (CHECK)\n",
    "#           - There is no 'MktSkuNb_Cl' column in the DF\n",
    "df.rename(columns = {'UOASoldGroup_Gr':'A1','TrdSkuNb_Cl':'A2_T','MktSkuNb_Cl':'A2_M','UOAAvailScarce_Gr':'B1',\n",
    "                    'TrdAvailRunout_Gr':'B2_T','MktAvailRunout_Gr':'B2_M','UOAPriceIncr_Gr':'C1',\n",
    "                    'TrdPriceStab_Gr':'C2_T','MktPriceStab_Gr':'C2_M','TrdResilStockout':'D1p1',\n",
    "                    'TrdResilLeadtime':'D1p2','TrdResilNodDens_Gr':'D2p1','TrdResilNodComplex_Gr':'D2p2',\n",
    "                    'TrdResilNodCrit_Gr':'D2p3','TrdServiceLoyalty':'E1','TrdServicePosAnalysis':'E2',\n",
    "                    'TrdStructureType':'F1_T','MktStructureType':'F1_M','TrdStructureCond':'F2_T',\n",
    "                    'MktStructureCond':'F2_M','MktCompetLessFive_Gr':'G1','MktCompetOneContr_Gr':'G2',\n",
    "                    'MktTraderNb':'G3','UOAQltyFood':'H1','UOAQltyFVegFruSeparate':'H2','UOAQltyFAnimRefrig':'H3p1',\n",
    "                    'UOAQltyFAnimRefrigWork':'H3p2','UOAQltyPackExpiry':'H4','UOAQltyFPackGood':'H5p1',\n",
    "                    'UOAQltyFVegFruGood':'H5p2','UOAQltyPlastGood':'H5p3','MktAccessCnstr':'I1',\n",
    "                    'MktProtCnstr':'I2'}, inplace = True)"
   ]
  },
  {
   "cell_type": "markdown",
   "id": "20d53265",
   "metadata": {},
   "source": [
    "### Calculate the scores for each dimension\n",
    "\n",
    "The user must first decide which market region they would like to analyse. "
   ]
  },
  {
   "cell_type": "code",
   "execution_count": 6,
   "id": "8897caf7",
   "metadata": {},
   "outputs": [],
   "source": [
    "def marketlist(x):\n",
    "    return x\n",
    "\n",
    "w = interactive(marketlist,x=Markets)"
   ]
  },
  {
   "cell_type": "code",
   "execution_count": 7,
   "id": "aef54c75",
   "metadata": {},
   "outputs": [
    {
     "data": {
      "application/vnd.jupyter.widget-view+json": {
       "model_id": "1c2b9ffc8e5149b6a2d8b07af8fa4269",
       "version_major": 2,
       "version_minor": 0
      },
      "text/plain": [
       "interactive(children=(Dropdown(description='x', options=('Kandy', 'Kegalle', 'Nuwara Eliya', 'Economic Centre-…"
      ]
     },
     "metadata": {},
     "output_type": "display_data"
    }
   ],
   "source": [
    "display(w)"
   ]
  },
  {
   "cell_type": "code",
   "execution_count": 8,
   "id": "59bf075c",
   "metadata": {},
   "outputs": [],
   "source": [
    "# Retrieve the desired market and fiter the results to create a new dataframe\n",
    "mfi_market = w.result\n",
    "\n",
    "df_mfi = df.loc[df['MarketName'] == mfi_market]"
   ]
  },
  {
   "cell_type": "code",
   "execution_count": 9,
   "id": "e63de9eb",
   "metadata": {},
   "outputs": [],
   "source": [
    "# calculate the score for Assortment - A \n",
    "a1sum = []\n",
    "for a in df_mfi.A1:\n",
    "    atmp = []\n",
    "    if a == '9999':\n",
    "        atmp = [0]\n",
    "        s = float(a)\n",
    "    if isinstance(a, str):\n",
    "        atmp = a.split()\n",
    "        \n",
    "    aint = [int(i) for i in atmp]\n",
    "    aint = [item for item in aint if not(math.isnan(item)) == True]\n",
    "    a1sum.append(sum(aint))\n",
    "\n",
    "# number of distinct objects sold. Include? \n",
    "a2sum = [x for x in df_mfi.A2_T if not math.isnan(x)]\n",
    "\n",
    "A = mean(a1sum) + mean(a2sum)"
   ]
  },
  {
   "cell_type": "code",
   "execution_count": 10,
   "id": "8387e5ff",
   "metadata": {},
   "outputs": [],
   "source": [
    "# calculate the score for Availability - B (Note that polarity is negative so a high score \n",
    "# indicates market is not functioning well )\n",
    "b1sum = []\n",
    "for b in df_mfi.B1:\n",
    "    btmp = []\n",
    "    if b == '9999':\n",
    "        btmp = [0]\n",
    "        b = float(b)\n",
    "    if isinstance(b, str):\n",
    "        btmp = b.split()\n",
    "    bint = [int(i) for i in btmp]\n",
    "    bint = [item for item in bint if not(math.isnan(item)) == True]\n",
    "    b1sum.append(sum(bint))\n",
    "    \n",
    "b2sum = []\n",
    "for b in df_mfi.B2_T:\n",
    "    btmp = []\n",
    "    if b == '9999':\n",
    "        btmp = [0]\n",
    "        b = float(b)\n",
    "    if isinstance(b, str):\n",
    "        btmp = b.split()\n",
    "    bint = [int(i) for i in btmp]\n",
    "    bint = [item for item in bint if not(math.isnan(item)) == True]\n",
    "    b2sum.append(sum(bint))\n",
    "    \n",
    "B = 0\n",
    "if (len(b1sum) > 0 and len(b2sum) > 0):\n",
    "    B = 0.5*((6-mean(b1sum)) + (6-mean(b2sum)))* 10./6.\n",
    "if (len(b1sum) > 0 and len(b2sum) == 0):\n",
    "    B = (6-mean(b1sum))* 10./6.\n",
    "    print(\"No B2 Trader data.\")\n",
    "if (len(b1sum) == 0 and len(b2sum) > 0):\n",
    "    B = (6-mean(b2sum))* 10./6.\n",
    "    print(\"No B1 data.\")"
   ]
  },
  {
   "cell_type": "code",
   "execution_count": 11,
   "id": "99fbb425",
   "metadata": {},
   "outputs": [],
   "source": [
    "# calculate the score for Prices - C\n",
    "c1sum = []\n",
    "for c in df_mfi.C1:\n",
    "    ctmp = []\n",
    "    if c == '9999':\n",
    "        ctmp = [0]\n",
    "        c = float(c)\n",
    "    if isinstance(c, str):\n",
    "        ctmp = c.split()\n",
    "    \n",
    "    cint = [int(i) for i in ctmp]\n",
    "    cint = [item for item in cint if not(math.isnan(item)) == True]\n",
    "    c1sum.append(sum(cint))\n",
    "\n",
    "c2sum = []\n",
    "for c in df_mfi.C2_T:\n",
    "    ctmp = []\n",
    "    if c == '9999':\n",
    "        ctmp = [0]\n",
    "        c = float(c)\n",
    "    if isinstance(c, str):\n",
    "        ctmp = c.split()\n",
    "    \n",
    "    cint = [int(i) for i in ctmp]\n",
    "    cint = [item for item in cint if not(math.isnan(item)) == True]\n",
    "    c2sum.append(sum(cint))\n",
    "\n",
    "C = 0\n",
    "if (len(c1sum) > 0 and len(c2sum) > 0):\n",
    "    C = 0.5*((6-mean(c1sum)) + (6-mean(c2sum)))* 10./6.\n",
    "if (len(c1sum) > 0 and len(c2sum) == 0):\n",
    "    C = (6-mean(c1sum))* 10./6.\n",
    "    print(\"No C2 Trader data.\")\n",
    "if (len(c1sum) == 0 and len(c2sum) > 0):\n",
    "    C = (6-mean(c2sum))* 10./6.\n",
    "    print(\"No C1 data.\")"
   ]
  },
  {
   "cell_type": "code",
   "execution_count": 20,
   "id": "062a3e4d",
   "metadata": {},
   "outputs": [],
   "source": [
    "# calculate the score for Resilience - D  (Note: need to incorporate D2.1 and D2.3)\n",
    "d1sum = df_mfi.D1p1 + df_mfi.D1p2\n",
    "d1sum = [x for x in d1sum if not math.isnan(x)]\n",
    "\n",
    "d2p1sum = []\n",
    "for d in df_mfi.D2p1:\n",
    "    dtmp = []\n",
    "    if d == '9999':\n",
    "        dtmp = [0]\n",
    "        d = float(d)\n",
    "    if isinstance(d, str):\n",
    "        dtmp = d.split()\n",
    "    \n",
    "    dint = [int(i) for i in dtmp]\n",
    "    dint = [item for item in dint if not(math.isnan(item)) == True]\n",
    "    d2p1sum.append(6. - sum(dint)) # due to negative polarity with maximum 6 \n",
    "\n",
    "d2p2sum = []\n",
    "for d in df_mfi.D2p2:\n",
    "    dtmp = []\n",
    "    if d == '9999':\n",
    "        dtmp = [0]\n",
    "        d = float(d)\n",
    "    if isinstance(d, str):\n",
    "        dtmp = d.split()\n",
    "    \n",
    "    dint = [int(i) for i in dtmp]\n",
    "    dint = [item for item in dint if not(math.isnan(item)) == True]\n",
    "    d2p2sum.append(sum(dint)) # positive polarity, higher number is good, max 6\n",
    "\n",
    "d2p3sum = []\n",
    "for d in df_mfi.D2p3:\n",
    "    dtmp = []\n",
    "    if d == '9999':\n",
    "        dtmp = [0]\n",
    "        d = float(d)\n",
    "    if isinstance(d, str):\n",
    "        dtmp = d.split()\n",
    "    \n",
    "    dint = [int(i) for i in dtmp]\n",
    "    dint = [item for item in dint if not(math.isnan(item)) == True]\n",
    "    d2p3sum.append(6. - sum(dint)) # due to negative polarity with maximum 6\n",
    "\n",
    "d2avg = (mean(d2p1sum) + mean(d2p2sum) + mean(d2p3sum))/ 3.\n",
    "    \n",
    "D = 0\n",
    "D = 0.5*((mean(d1sum)) + d2avg) * 10./4."
   ]
  },
  {
   "cell_type": "code",
   "execution_count": 2136,
   "id": "66650bc1",
   "metadata": {},
   "outputs": [],
   "source": [
    "# calculate the score for Service - E (formerly competition). Assume that counts of yes answers indicates \n",
    "#             positive polarity with yes/no answers (Need to verify that these are the right E1/E2 queries)\n",
    "e1 = [x for x in df_mfi.E1 if not math.isnan(x)]\n",
    "e2 = [x for x in df_mfi.E2 if not math.isnan(x)]\n",
    "\n",
    "numq = 2\n",
    "if len(e1) > 0:\n",
    "    e1sum = 10.*sum(e1) / len(e1)\n",
    "else:\n",
    "    e1sum = 0\n",
    "    numq = numq - 1\n",
    "if len(e2) > 0:\n",
    "    e2sum = 10.*sum(e2) / len(e2)\n",
    "else: \n",
    "    e2sum = 0\n",
    "    numq = numq - 1\n",
    "\n",
    "E = (e1sum + e2sum)/ numq"
   ]
  },
  {
   "cell_type": "code",
   "execution_count": 2137,
   "id": "411c9f37",
   "metadata": {},
   "outputs": [],
   "source": [
    "# calculate the score for Infrastructure - F  (need to decided whether to use both Market and Trader data)\n",
    "f1sum = []\n",
    "for f in df_mfi.F1_M:\n",
    "    ftmp = []\n",
    "    if f == '9999':\n",
    "        continue\n",
    "    if isinstance(f, str):\n",
    "        ftmp = f.split()\n",
    "    else:\n",
    "        continue\n",
    "    fint = [int(i) for i in ftmp]\n",
    "    fint = [item for item in fint if not(math.isnan(item)) == True]\n",
    "    f1sum.append(mean(fint))\n",
    "\n",
    "f2sum = []\n",
    "for f in df_mfi.F2_M:\n",
    "    ftmp = []\n",
    "    if f == '9999':\n",
    "        continue\n",
    "    if isinstance(f, str):\n",
    "        ftmp = f.split()\n",
    "    else:\n",
    "        continue\n",
    "    fint = [int(i) for i in ftmp]\n",
    "    fint = [item for item in fint if not(math.isnan(item)) == True]\n",
    "    f2sum.append(mean(fint))\n",
    "\n",
    "try:\n",
    "    f1avg = 10.*mean(f1sum) / 3.\n",
    "    f2avg = 10.*mean(f2sum) / 3.\n",
    "\n",
    "    F = (f1avg + f2avg)/ 2.\n",
    "except:\n",
    "    F = 0"
   ]
  },
  {
   "cell_type": "code",
   "execution_count": 19,
   "id": "85dfe370",
   "metadata": {},
   "outputs": [],
   "source": [
    "# calculate the score for Competition - G (formerly Service)\n",
    "for g in df_mfi.index:\n",
    "    gtmp = []\n",
    "    if isinstance(df_mfi.G1[g], str):\n",
    "        gtmp = df_mfi.G1[g].split()\n",
    "        gtmp = [float(x) for x in gtmp]\n",
    "        df_mfi.at[g, 'G1'] = mean(gtmp)\n",
    "    if isinstance(df_mfi.G2[g], str):\n",
    "        gtmp = df_mfi.G2[g].split()\n",
    "        gtmp = [float(x) for x in gtmp]\n",
    "        df_mfi.at[g, 'G2'] = mean(gtmp)\n",
    "    if isinstance(df_mfi.G3[g], str):\n",
    "        gtmp = df_mfi.G3[g].split()\n",
    "        gtmp = [float(x) for x in gtmp]\n",
    "        df_mfi.at[g, 'G3'] = mean(gtmp)\n",
    "\n",
    "g1 = [item for item in df_mfi.G1.astype(float) if not(math.isnan(item)) == True]\n",
    "g1 = [0 if item == 9999. else item for item in g1]\n",
    "g2 = [item for item in df_mfi.G2.astype(float) if not(math.isnan(item)) == True]\n",
    "g2 = [0 if item == 9999. else item for item in g2]\n",
    "g3 = [item for item in df_mfi.G3.astype(float) if not(math.isnan(item)) == True]\n",
    "g3 = [5 if item >= 5. else item for item in g3]\n",
    "\n",
    "try: \n",
    "    G = 10.*((3. - mean(g1))/3. + (3. - mean(g2))/3. + mean(g3)/5.) / 3.\n",
    "except:\n",
    "    G = 0"
   ]
  },
  {
   "cell_type": "code",
   "execution_count": 2139,
   "id": "7a05f7fa",
   "metadata": {},
   "outputs": [],
   "source": [
    "# calculate the score for Food Quality - H \n",
    "h1 = [item for item in df_mfi.H1 if (not(math.isnan(item)) == True and item != 9999.)]\n",
    "h1sum = sum(h1) / len(h1)\n",
    "h2 = [item for item in df_mfi.H2 if (not(math.isnan(item)) == True and item != 9999.)]\n",
    "h2sum = sum(h2) / len(h2)\n",
    "h3p1 = [item for item in df_mfi.H3p1 if (not(math.isnan(item)) == True and item != 9999.)]\n",
    "h3p1sum = sum(h3p1) / len(h3p1)\n",
    "h3p2 = [item for item in df_mfi.H3p2 if (not(math.isnan(item)) == True and item != 9999.)]\n",
    "h3p2sum = sum(h3p2) / len(h3p2)\n",
    "h4 = [item for item in df_mfi.H4 if (not(math.isnan(item)) == True and item != 9999.)]\n",
    "h4sum = sum(h4) / len(h4)\n",
    "h5p1 = [item for item in df_mfi.H5p1 if (not(math.isnan(item)) == True and item != 9999.)]\n",
    "h5p1sum = sum(h5p1) / len(h5p1)\n",
    "h5p2 = [item for item in df_mfi.H5p2 if (not(math.isnan(item)) == True and item != 9999.)]\n",
    "h5p2sum = sum(h5p2) / len(h5p2)\n",
    "h5p3 = [item for item in df_mfi.H5p3 if (not(math.isnan(item)) == True and item != 9999.)]\n",
    "h5p3sum = sum(h5p3) / len(h5p3)\n",
    "\n",
    "H = 10.*mean([h1sum, h2sum, h3p1sum, h3p2sum, h4sum, h5p1sum, h5p2sum, h5p3sum])"
   ]
  },
  {
   "cell_type": "code",
   "execution_count": 2140,
   "id": "f069a0f5",
   "metadata": {},
   "outputs": [],
   "source": [
    "# calculate the score for Access & Protection - I\n",
    "for i in df_mfi.index:\n",
    "    \n",
    "    if isinstance(df_mfi.I1[i], str):\n",
    "        itmp = df_mfi.I1[i].split()\n",
    "        itmp = [float(x) for x in itmp]\n",
    "        df_mfi.at[i, 'I1'] = mean(itmp)\n",
    "    if isinstance(df_mfi.I2[i], str):\n",
    "        itmp = df_mfi.I2[i].split()\n",
    "        itmp = [float(x) for x in itmp]\n",
    "        df_mfi.at[i, 'I2'] = mean(itmp)\n",
    "        \n",
    "i1 = [item for item in df_mfi.I1.astype(float) if not(math.isnan(item)) == True]\n",
    "i1 = [0 if item == 9999. else item for item in i1]\n",
    "i2 = [item for item in df_mfi.I2.astype(float) if not(math.isnan(item)) == True]\n",
    "i2 = [0 if item == 9999. else item for item in i2]\n",
    "\n",
    "try: \n",
    "    i1revpol = 10.*(3. - mean(i1))/3.\n",
    "    i2revpol = 10.*(3. - mean(i2))/3.\n",
    "\n",
    "    I = (i1revpol + i2revpol)/2.\n",
    "except: \n",
    "    I = 0"
   ]
  },
  {
   "cell_type": "code",
   "execution_count": 2141,
   "id": "c90e9a12",
   "metadata": {},
   "outputs": [],
   "source": [
    "# Now calculate the MFI from the dimension scores\n",
    "mfi_dims = [A, B, C, D, E, F, G, H, I]\n",
    "alpha = 0.5\n",
    "beta = 1.\n",
    "mu = mean(mfi_dims)\n",
    "\n",
    "MFI = mu - alpha*(math.sqrt((mu - min(mfi_dims)) + beta**2.) - beta)"
   ]
  },
  {
   "cell_type": "markdown",
   "id": "59a7678f",
   "metadata": {},
   "source": [
    "### Plot the spider chart"
   ]
  },
  {
   "cell_type": "code",
   "execution_count": 2142,
   "id": "215fecb6",
   "metadata": {},
   "outputs": [],
   "source": [
    "# Sample data\n",
    "plotdf = pd.DataFrame(dict(\n",
    "    value = [A, B, C, D, E, F, G, H, I],\n",
    "    variable = ['Assortment', 'Availability', 'Price', 'Resilience', 'Service',\n",
    "                'Infrastructure','Competition','Food Quality','Access & Protection']))       "
   ]
  },
  {
   "cell_type": "code",
   "execution_count": 2143,
   "id": "440168fd",
   "metadata": {},
   "outputs": [
    {
     "data": {
      "application/vnd.plotly.v1+json": {
       "config": {
        "plotlyServerURL": "https://plot.ly"
       },
       "data": [
        {
         "hovertemplate": "value=%{r}<br>variable=%{theta}<extra></extra>",
         "legendgroup": "",
         "line": {
          "color": "#636efa",
          "dash": "solid"
         },
         "marker": {
          "symbol": "circle"
         },
         "mode": "lines",
         "name": "",
         "r": [
          9.222222222222221,
          9.429824561403509,
          9.605263157894738,
          7.5,
          7.5,
          10,
          8.666666666666666,
          9.736842105263158,
          10,
          9.222222222222221
         ],
         "showlegend": false,
         "subplot": "polar",
         "theta": [
          "Assortment",
          "Availability",
          "Price",
          "Resilience",
          "Service",
          "Infrastructure",
          "Competition",
          "Food Quality",
          "Access & Protection",
          "Assortment"
         ],
         "type": "scatterpolar"
        }
       ],
       "layout": {
        "legend": {
         "tracegroupgap": 0
        },
        "polar": {
         "angularaxis": {
          "direction": "clockwise",
          "rotation": 90
         },
         "domain": {
          "x": [
           0,
           1
          ],
          "y": [
           0,
           1
          ]
         }
        },
        "template": {
         "data": {
          "bar": [
           {
            "error_x": {
             "color": "#2a3f5f"
            },
            "error_y": {
             "color": "#2a3f5f"
            },
            "marker": {
             "line": {
              "color": "#E5ECF6",
              "width": 0.5
             },
             "pattern": {
              "fillmode": "overlay",
              "size": 10,
              "solidity": 0.2
             }
            },
            "type": "bar"
           }
          ],
          "barpolar": [
           {
            "marker": {
             "line": {
              "color": "#E5ECF6",
              "width": 0.5
             },
             "pattern": {
              "fillmode": "overlay",
              "size": 10,
              "solidity": 0.2
             }
            },
            "type": "barpolar"
           }
          ],
          "carpet": [
           {
            "aaxis": {
             "endlinecolor": "#2a3f5f",
             "gridcolor": "white",
             "linecolor": "white",
             "minorgridcolor": "white",
             "startlinecolor": "#2a3f5f"
            },
            "baxis": {
             "endlinecolor": "#2a3f5f",
             "gridcolor": "white",
             "linecolor": "white",
             "minorgridcolor": "white",
             "startlinecolor": "#2a3f5f"
            },
            "type": "carpet"
           }
          ],
          "choropleth": [
           {
            "colorbar": {
             "outlinewidth": 0,
             "ticks": ""
            },
            "type": "choropleth"
           }
          ],
          "contour": [
           {
            "colorbar": {
             "outlinewidth": 0,
             "ticks": ""
            },
            "colorscale": [
             [
              0,
              "#0d0887"
             ],
             [
              0.1111111111111111,
              "#46039f"
             ],
             [
              0.2222222222222222,
              "#7201a8"
             ],
             [
              0.3333333333333333,
              "#9c179e"
             ],
             [
              0.4444444444444444,
              "#bd3786"
             ],
             [
              0.5555555555555556,
              "#d8576b"
             ],
             [
              0.6666666666666666,
              "#ed7953"
             ],
             [
              0.7777777777777778,
              "#fb9f3a"
             ],
             [
              0.8888888888888888,
              "#fdca26"
             ],
             [
              1,
              "#f0f921"
             ]
            ],
            "type": "contour"
           }
          ],
          "contourcarpet": [
           {
            "colorbar": {
             "outlinewidth": 0,
             "ticks": ""
            },
            "type": "contourcarpet"
           }
          ],
          "heatmap": [
           {
            "colorbar": {
             "outlinewidth": 0,
             "ticks": ""
            },
            "colorscale": [
             [
              0,
              "#0d0887"
             ],
             [
              0.1111111111111111,
              "#46039f"
             ],
             [
              0.2222222222222222,
              "#7201a8"
             ],
             [
              0.3333333333333333,
              "#9c179e"
             ],
             [
              0.4444444444444444,
              "#bd3786"
             ],
             [
              0.5555555555555556,
              "#d8576b"
             ],
             [
              0.6666666666666666,
              "#ed7953"
             ],
             [
              0.7777777777777778,
              "#fb9f3a"
             ],
             [
              0.8888888888888888,
              "#fdca26"
             ],
             [
              1,
              "#f0f921"
             ]
            ],
            "type": "heatmap"
           }
          ],
          "heatmapgl": [
           {
            "colorbar": {
             "outlinewidth": 0,
             "ticks": ""
            },
            "colorscale": [
             [
              0,
              "#0d0887"
             ],
             [
              0.1111111111111111,
              "#46039f"
             ],
             [
              0.2222222222222222,
              "#7201a8"
             ],
             [
              0.3333333333333333,
              "#9c179e"
             ],
             [
              0.4444444444444444,
              "#bd3786"
             ],
             [
              0.5555555555555556,
              "#d8576b"
             ],
             [
              0.6666666666666666,
              "#ed7953"
             ],
             [
              0.7777777777777778,
              "#fb9f3a"
             ],
             [
              0.8888888888888888,
              "#fdca26"
             ],
             [
              1,
              "#f0f921"
             ]
            ],
            "type": "heatmapgl"
           }
          ],
          "histogram": [
           {
            "marker": {
             "pattern": {
              "fillmode": "overlay",
              "size": 10,
              "solidity": 0.2
             }
            },
            "type": "histogram"
           }
          ],
          "histogram2d": [
           {
            "colorbar": {
             "outlinewidth": 0,
             "ticks": ""
            },
            "colorscale": [
             [
              0,
              "#0d0887"
             ],
             [
              0.1111111111111111,
              "#46039f"
             ],
             [
              0.2222222222222222,
              "#7201a8"
             ],
             [
              0.3333333333333333,
              "#9c179e"
             ],
             [
              0.4444444444444444,
              "#bd3786"
             ],
             [
              0.5555555555555556,
              "#d8576b"
             ],
             [
              0.6666666666666666,
              "#ed7953"
             ],
             [
              0.7777777777777778,
              "#fb9f3a"
             ],
             [
              0.8888888888888888,
              "#fdca26"
             ],
             [
              1,
              "#f0f921"
             ]
            ],
            "type": "histogram2d"
           }
          ],
          "histogram2dcontour": [
           {
            "colorbar": {
             "outlinewidth": 0,
             "ticks": ""
            },
            "colorscale": [
             [
              0,
              "#0d0887"
             ],
             [
              0.1111111111111111,
              "#46039f"
             ],
             [
              0.2222222222222222,
              "#7201a8"
             ],
             [
              0.3333333333333333,
              "#9c179e"
             ],
             [
              0.4444444444444444,
              "#bd3786"
             ],
             [
              0.5555555555555556,
              "#d8576b"
             ],
             [
              0.6666666666666666,
              "#ed7953"
             ],
             [
              0.7777777777777778,
              "#fb9f3a"
             ],
             [
              0.8888888888888888,
              "#fdca26"
             ],
             [
              1,
              "#f0f921"
             ]
            ],
            "type": "histogram2dcontour"
           }
          ],
          "mesh3d": [
           {
            "colorbar": {
             "outlinewidth": 0,
             "ticks": ""
            },
            "type": "mesh3d"
           }
          ],
          "parcoords": [
           {
            "line": {
             "colorbar": {
              "outlinewidth": 0,
              "ticks": ""
             }
            },
            "type": "parcoords"
           }
          ],
          "pie": [
           {
            "automargin": true,
            "type": "pie"
           }
          ],
          "scatter": [
           {
            "fillpattern": {
             "fillmode": "overlay",
             "size": 10,
             "solidity": 0.2
            },
            "type": "scatter"
           }
          ],
          "scatter3d": [
           {
            "line": {
             "colorbar": {
              "outlinewidth": 0,
              "ticks": ""
             }
            },
            "marker": {
             "colorbar": {
              "outlinewidth": 0,
              "ticks": ""
             }
            },
            "type": "scatter3d"
           }
          ],
          "scattercarpet": [
           {
            "marker": {
             "colorbar": {
              "outlinewidth": 0,
              "ticks": ""
             }
            },
            "type": "scattercarpet"
           }
          ],
          "scattergeo": [
           {
            "marker": {
             "colorbar": {
              "outlinewidth": 0,
              "ticks": ""
             }
            },
            "type": "scattergeo"
           }
          ],
          "scattergl": [
           {
            "marker": {
             "colorbar": {
              "outlinewidth": 0,
              "ticks": ""
             }
            },
            "type": "scattergl"
           }
          ],
          "scattermapbox": [
           {
            "marker": {
             "colorbar": {
              "outlinewidth": 0,
              "ticks": ""
             }
            },
            "type": "scattermapbox"
           }
          ],
          "scatterpolar": [
           {
            "marker": {
             "colorbar": {
              "outlinewidth": 0,
              "ticks": ""
             }
            },
            "type": "scatterpolar"
           }
          ],
          "scatterpolargl": [
           {
            "marker": {
             "colorbar": {
              "outlinewidth": 0,
              "ticks": ""
             }
            },
            "type": "scatterpolargl"
           }
          ],
          "scatterternary": [
           {
            "marker": {
             "colorbar": {
              "outlinewidth": 0,
              "ticks": ""
             }
            },
            "type": "scatterternary"
           }
          ],
          "surface": [
           {
            "colorbar": {
             "outlinewidth": 0,
             "ticks": ""
            },
            "colorscale": [
             [
              0,
              "#0d0887"
             ],
             [
              0.1111111111111111,
              "#46039f"
             ],
             [
              0.2222222222222222,
              "#7201a8"
             ],
             [
              0.3333333333333333,
              "#9c179e"
             ],
             [
              0.4444444444444444,
              "#bd3786"
             ],
             [
              0.5555555555555556,
              "#d8576b"
             ],
             [
              0.6666666666666666,
              "#ed7953"
             ],
             [
              0.7777777777777778,
              "#fb9f3a"
             ],
             [
              0.8888888888888888,
              "#fdca26"
             ],
             [
              1,
              "#f0f921"
             ]
            ],
            "type": "surface"
           }
          ],
          "table": [
           {
            "cells": {
             "fill": {
              "color": "#EBF0F8"
             },
             "line": {
              "color": "white"
             }
            },
            "header": {
             "fill": {
              "color": "#C8D4E3"
             },
             "line": {
              "color": "white"
             }
            },
            "type": "table"
           }
          ]
         },
         "layout": {
          "annotationdefaults": {
           "arrowcolor": "#2a3f5f",
           "arrowhead": 0,
           "arrowwidth": 1
          },
          "autotypenumbers": "strict",
          "coloraxis": {
           "colorbar": {
            "outlinewidth": 0,
            "ticks": ""
           }
          },
          "colorscale": {
           "diverging": [
            [
             0,
             "#8e0152"
            ],
            [
             0.1,
             "#c51b7d"
            ],
            [
             0.2,
             "#de77ae"
            ],
            [
             0.3,
             "#f1b6da"
            ],
            [
             0.4,
             "#fde0ef"
            ],
            [
             0.5,
             "#f7f7f7"
            ],
            [
             0.6,
             "#e6f5d0"
            ],
            [
             0.7,
             "#b8e186"
            ],
            [
             0.8,
             "#7fbc41"
            ],
            [
             0.9,
             "#4d9221"
            ],
            [
             1,
             "#276419"
            ]
           ],
           "sequential": [
            [
             0,
             "#0d0887"
            ],
            [
             0.1111111111111111,
             "#46039f"
            ],
            [
             0.2222222222222222,
             "#7201a8"
            ],
            [
             0.3333333333333333,
             "#9c179e"
            ],
            [
             0.4444444444444444,
             "#bd3786"
            ],
            [
             0.5555555555555556,
             "#d8576b"
            ],
            [
             0.6666666666666666,
             "#ed7953"
            ],
            [
             0.7777777777777778,
             "#fb9f3a"
            ],
            [
             0.8888888888888888,
             "#fdca26"
            ],
            [
             1,
             "#f0f921"
            ]
           ],
           "sequentialminus": [
            [
             0,
             "#0d0887"
            ],
            [
             0.1111111111111111,
             "#46039f"
            ],
            [
             0.2222222222222222,
             "#7201a8"
            ],
            [
             0.3333333333333333,
             "#9c179e"
            ],
            [
             0.4444444444444444,
             "#bd3786"
            ],
            [
             0.5555555555555556,
             "#d8576b"
            ],
            [
             0.6666666666666666,
             "#ed7953"
            ],
            [
             0.7777777777777778,
             "#fb9f3a"
            ],
            [
             0.8888888888888888,
             "#fdca26"
            ],
            [
             1,
             "#f0f921"
            ]
           ]
          },
          "colorway": [
           "#636efa",
           "#EF553B",
           "#00cc96",
           "#ab63fa",
           "#FFA15A",
           "#19d3f3",
           "#FF6692",
           "#B6E880",
           "#FF97FF",
           "#FECB52"
          ],
          "font": {
           "color": "#2a3f5f"
          },
          "geo": {
           "bgcolor": "white",
           "lakecolor": "white",
           "landcolor": "#E5ECF6",
           "showlakes": true,
           "showland": true,
           "subunitcolor": "white"
          },
          "hoverlabel": {
           "align": "left"
          },
          "hovermode": "closest",
          "mapbox": {
           "style": "light"
          },
          "paper_bgcolor": "white",
          "plot_bgcolor": "#E5ECF6",
          "polar": {
           "angularaxis": {
            "gridcolor": "white",
            "linecolor": "white",
            "ticks": ""
           },
           "bgcolor": "#E5ECF6",
           "radialaxis": {
            "gridcolor": "white",
            "linecolor": "white",
            "ticks": ""
           }
          },
          "scene": {
           "xaxis": {
            "backgroundcolor": "#E5ECF6",
            "gridcolor": "white",
            "gridwidth": 2,
            "linecolor": "white",
            "showbackground": true,
            "ticks": "",
            "zerolinecolor": "white"
           },
           "yaxis": {
            "backgroundcolor": "#E5ECF6",
            "gridcolor": "white",
            "gridwidth": 2,
            "linecolor": "white",
            "showbackground": true,
            "ticks": "",
            "zerolinecolor": "white"
           },
           "zaxis": {
            "backgroundcolor": "#E5ECF6",
            "gridcolor": "white",
            "gridwidth": 2,
            "linecolor": "white",
            "showbackground": true,
            "ticks": "",
            "zerolinecolor": "white"
           }
          },
          "shapedefaults": {
           "line": {
            "color": "#2a3f5f"
           }
          },
          "ternary": {
           "aaxis": {
            "gridcolor": "white",
            "linecolor": "white",
            "ticks": ""
           },
           "baxis": {
            "gridcolor": "white",
            "linecolor": "white",
            "ticks": ""
           },
           "bgcolor": "#E5ECF6",
           "caxis": {
            "gridcolor": "white",
            "linecolor": "white",
            "ticks": ""
           }
          },
          "title": {
           "x": 0.05
          },
          "xaxis": {
           "automargin": true,
           "gridcolor": "white",
           "linecolor": "white",
           "ticks": "",
           "title": {
            "standoff": 15
           },
           "zerolinecolor": "white",
           "zerolinewidth": 2
          },
          "yaxis": {
           "automargin": true,
           "gridcolor": "white",
           "linecolor": "white",
           "ticks": "",
           "title": {
            "standoff": 15
           },
           "zerolinecolor": "white",
           "zerolinewidth": 2
          }
         }
        },
        "title": {
         "text": "Region: Mannar ( MFI = 8.8 )"
        }
       }
      },
      "text/html": [
       "<div>                            <div id=\"e44555f0-5917-4bcc-ac9a-804e2fb6f997\" class=\"plotly-graph-div\" style=\"height:525px; width:100%;\"></div>            <script type=\"text/javascript\">                require([\"plotly\"], function(Plotly) {                    window.PLOTLYENV=window.PLOTLYENV || {};                                    if (document.getElementById(\"e44555f0-5917-4bcc-ac9a-804e2fb6f997\")) {                    Plotly.newPlot(                        \"e44555f0-5917-4bcc-ac9a-804e2fb6f997\",                        [{\"hovertemplate\":\"value=%{r}\\u003cbr\\u003evariable=%{theta}\\u003cextra\\u003e\\u003c\\u002fextra\\u003e\",\"legendgroup\":\"\",\"line\":{\"color\":\"#636efa\",\"dash\":\"solid\"},\"marker\":{\"symbol\":\"circle\"},\"mode\":\"lines\",\"name\":\"\",\"r\":[9.222222222222221,9.429824561403509,9.605263157894738,7.5,7.5,10.0,8.666666666666666,9.736842105263158,10.0,9.222222222222221],\"showlegend\":false,\"subplot\":\"polar\",\"theta\":[\"Assortment\",\"Availability\",\"Price\",\"Resilience\",\"Service\",\"Infrastructure\",\"Competition\",\"Food Quality\",\"Access & Protection\",\"Assortment\"],\"type\":\"scatterpolar\"}],                        {\"template\":{\"data\":{\"histogram2dcontour\":[{\"type\":\"histogram2dcontour\",\"colorbar\":{\"outlinewidth\":0,\"ticks\":\"\"},\"colorscale\":[[0.0,\"#0d0887\"],[0.1111111111111111,\"#46039f\"],[0.2222222222222222,\"#7201a8\"],[0.3333333333333333,\"#9c179e\"],[0.4444444444444444,\"#bd3786\"],[0.5555555555555556,\"#d8576b\"],[0.6666666666666666,\"#ed7953\"],[0.7777777777777778,\"#fb9f3a\"],[0.8888888888888888,\"#fdca26\"],[1.0,\"#f0f921\"]]}],\"choropleth\":[{\"type\":\"choropleth\",\"colorbar\":{\"outlinewidth\":0,\"ticks\":\"\"}}],\"histogram2d\":[{\"type\":\"histogram2d\",\"colorbar\":{\"outlinewidth\":0,\"ticks\":\"\"},\"colorscale\":[[0.0,\"#0d0887\"],[0.1111111111111111,\"#46039f\"],[0.2222222222222222,\"#7201a8\"],[0.3333333333333333,\"#9c179e\"],[0.4444444444444444,\"#bd3786\"],[0.5555555555555556,\"#d8576b\"],[0.6666666666666666,\"#ed7953\"],[0.7777777777777778,\"#fb9f3a\"],[0.8888888888888888,\"#fdca26\"],[1.0,\"#f0f921\"]]}],\"heatmap\":[{\"type\":\"heatmap\",\"colorbar\":{\"outlinewidth\":0,\"ticks\":\"\"},\"colorscale\":[[0.0,\"#0d0887\"],[0.1111111111111111,\"#46039f\"],[0.2222222222222222,\"#7201a8\"],[0.3333333333333333,\"#9c179e\"],[0.4444444444444444,\"#bd3786\"],[0.5555555555555556,\"#d8576b\"],[0.6666666666666666,\"#ed7953\"],[0.7777777777777778,\"#fb9f3a\"],[0.8888888888888888,\"#fdca26\"],[1.0,\"#f0f921\"]]}],\"heatmapgl\":[{\"type\":\"heatmapgl\",\"colorbar\":{\"outlinewidth\":0,\"ticks\":\"\"},\"colorscale\":[[0.0,\"#0d0887\"],[0.1111111111111111,\"#46039f\"],[0.2222222222222222,\"#7201a8\"],[0.3333333333333333,\"#9c179e\"],[0.4444444444444444,\"#bd3786\"],[0.5555555555555556,\"#d8576b\"],[0.6666666666666666,\"#ed7953\"],[0.7777777777777778,\"#fb9f3a\"],[0.8888888888888888,\"#fdca26\"],[1.0,\"#f0f921\"]]}],\"contourcarpet\":[{\"type\":\"contourcarpet\",\"colorbar\":{\"outlinewidth\":0,\"ticks\":\"\"}}],\"contour\":[{\"type\":\"contour\",\"colorbar\":{\"outlinewidth\":0,\"ticks\":\"\"},\"colorscale\":[[0.0,\"#0d0887\"],[0.1111111111111111,\"#46039f\"],[0.2222222222222222,\"#7201a8\"],[0.3333333333333333,\"#9c179e\"],[0.4444444444444444,\"#bd3786\"],[0.5555555555555556,\"#d8576b\"],[0.6666666666666666,\"#ed7953\"],[0.7777777777777778,\"#fb9f3a\"],[0.8888888888888888,\"#fdca26\"],[1.0,\"#f0f921\"]]}],\"surface\":[{\"type\":\"surface\",\"colorbar\":{\"outlinewidth\":0,\"ticks\":\"\"},\"colorscale\":[[0.0,\"#0d0887\"],[0.1111111111111111,\"#46039f\"],[0.2222222222222222,\"#7201a8\"],[0.3333333333333333,\"#9c179e\"],[0.4444444444444444,\"#bd3786\"],[0.5555555555555556,\"#d8576b\"],[0.6666666666666666,\"#ed7953\"],[0.7777777777777778,\"#fb9f3a\"],[0.8888888888888888,\"#fdca26\"],[1.0,\"#f0f921\"]]}],\"mesh3d\":[{\"type\":\"mesh3d\",\"colorbar\":{\"outlinewidth\":0,\"ticks\":\"\"}}],\"scatter\":[{\"fillpattern\":{\"fillmode\":\"overlay\",\"size\":10,\"solidity\":0.2},\"type\":\"scatter\"}],\"parcoords\":[{\"type\":\"parcoords\",\"line\":{\"colorbar\":{\"outlinewidth\":0,\"ticks\":\"\"}}}],\"scatterpolargl\":[{\"type\":\"scatterpolargl\",\"marker\":{\"colorbar\":{\"outlinewidth\":0,\"ticks\":\"\"}}}],\"bar\":[{\"error_x\":{\"color\":\"#2a3f5f\"},\"error_y\":{\"color\":\"#2a3f5f\"},\"marker\":{\"line\":{\"color\":\"#E5ECF6\",\"width\":0.5},\"pattern\":{\"fillmode\":\"overlay\",\"size\":10,\"solidity\":0.2}},\"type\":\"bar\"}],\"scattergeo\":[{\"type\":\"scattergeo\",\"marker\":{\"colorbar\":{\"outlinewidth\":0,\"ticks\":\"\"}}}],\"scatterpolar\":[{\"type\":\"scatterpolar\",\"marker\":{\"colorbar\":{\"outlinewidth\":0,\"ticks\":\"\"}}}],\"histogram\":[{\"marker\":{\"pattern\":{\"fillmode\":\"overlay\",\"size\":10,\"solidity\":0.2}},\"type\":\"histogram\"}],\"scattergl\":[{\"type\":\"scattergl\",\"marker\":{\"colorbar\":{\"outlinewidth\":0,\"ticks\":\"\"}}}],\"scatter3d\":[{\"type\":\"scatter3d\",\"line\":{\"colorbar\":{\"outlinewidth\":0,\"ticks\":\"\"}},\"marker\":{\"colorbar\":{\"outlinewidth\":0,\"ticks\":\"\"}}}],\"scattermapbox\":[{\"type\":\"scattermapbox\",\"marker\":{\"colorbar\":{\"outlinewidth\":0,\"ticks\":\"\"}}}],\"scatterternary\":[{\"type\":\"scatterternary\",\"marker\":{\"colorbar\":{\"outlinewidth\":0,\"ticks\":\"\"}}}],\"scattercarpet\":[{\"type\":\"scattercarpet\",\"marker\":{\"colorbar\":{\"outlinewidth\":0,\"ticks\":\"\"}}}],\"carpet\":[{\"aaxis\":{\"endlinecolor\":\"#2a3f5f\",\"gridcolor\":\"white\",\"linecolor\":\"white\",\"minorgridcolor\":\"white\",\"startlinecolor\":\"#2a3f5f\"},\"baxis\":{\"endlinecolor\":\"#2a3f5f\",\"gridcolor\":\"white\",\"linecolor\":\"white\",\"minorgridcolor\":\"white\",\"startlinecolor\":\"#2a3f5f\"},\"type\":\"carpet\"}],\"table\":[{\"cells\":{\"fill\":{\"color\":\"#EBF0F8\"},\"line\":{\"color\":\"white\"}},\"header\":{\"fill\":{\"color\":\"#C8D4E3\"},\"line\":{\"color\":\"white\"}},\"type\":\"table\"}],\"barpolar\":[{\"marker\":{\"line\":{\"color\":\"#E5ECF6\",\"width\":0.5},\"pattern\":{\"fillmode\":\"overlay\",\"size\":10,\"solidity\":0.2}},\"type\":\"barpolar\"}],\"pie\":[{\"automargin\":true,\"type\":\"pie\"}]},\"layout\":{\"autotypenumbers\":\"strict\",\"colorway\":[\"#636efa\",\"#EF553B\",\"#00cc96\",\"#ab63fa\",\"#FFA15A\",\"#19d3f3\",\"#FF6692\",\"#B6E880\",\"#FF97FF\",\"#FECB52\"],\"font\":{\"color\":\"#2a3f5f\"},\"hovermode\":\"closest\",\"hoverlabel\":{\"align\":\"left\"},\"paper_bgcolor\":\"white\",\"plot_bgcolor\":\"#E5ECF6\",\"polar\":{\"bgcolor\":\"#E5ECF6\",\"angularaxis\":{\"gridcolor\":\"white\",\"linecolor\":\"white\",\"ticks\":\"\"},\"radialaxis\":{\"gridcolor\":\"white\",\"linecolor\":\"white\",\"ticks\":\"\"}},\"ternary\":{\"bgcolor\":\"#E5ECF6\",\"aaxis\":{\"gridcolor\":\"white\",\"linecolor\":\"white\",\"ticks\":\"\"},\"baxis\":{\"gridcolor\":\"white\",\"linecolor\":\"white\",\"ticks\":\"\"},\"caxis\":{\"gridcolor\":\"white\",\"linecolor\":\"white\",\"ticks\":\"\"}},\"coloraxis\":{\"colorbar\":{\"outlinewidth\":0,\"ticks\":\"\"}},\"colorscale\":{\"sequential\":[[0.0,\"#0d0887\"],[0.1111111111111111,\"#46039f\"],[0.2222222222222222,\"#7201a8\"],[0.3333333333333333,\"#9c179e\"],[0.4444444444444444,\"#bd3786\"],[0.5555555555555556,\"#d8576b\"],[0.6666666666666666,\"#ed7953\"],[0.7777777777777778,\"#fb9f3a\"],[0.8888888888888888,\"#fdca26\"],[1.0,\"#f0f921\"]],\"sequentialminus\":[[0.0,\"#0d0887\"],[0.1111111111111111,\"#46039f\"],[0.2222222222222222,\"#7201a8\"],[0.3333333333333333,\"#9c179e\"],[0.4444444444444444,\"#bd3786\"],[0.5555555555555556,\"#d8576b\"],[0.6666666666666666,\"#ed7953\"],[0.7777777777777778,\"#fb9f3a\"],[0.8888888888888888,\"#fdca26\"],[1.0,\"#f0f921\"]],\"diverging\":[[0,\"#8e0152\"],[0.1,\"#c51b7d\"],[0.2,\"#de77ae\"],[0.3,\"#f1b6da\"],[0.4,\"#fde0ef\"],[0.5,\"#f7f7f7\"],[0.6,\"#e6f5d0\"],[0.7,\"#b8e186\"],[0.8,\"#7fbc41\"],[0.9,\"#4d9221\"],[1,\"#276419\"]]},\"xaxis\":{\"gridcolor\":\"white\",\"linecolor\":\"white\",\"ticks\":\"\",\"title\":{\"standoff\":15},\"zerolinecolor\":\"white\",\"automargin\":true,\"zerolinewidth\":2},\"yaxis\":{\"gridcolor\":\"white\",\"linecolor\":\"white\",\"ticks\":\"\",\"title\":{\"standoff\":15},\"zerolinecolor\":\"white\",\"automargin\":true,\"zerolinewidth\":2},\"scene\":{\"xaxis\":{\"backgroundcolor\":\"#E5ECF6\",\"gridcolor\":\"white\",\"linecolor\":\"white\",\"showbackground\":true,\"ticks\":\"\",\"zerolinecolor\":\"white\",\"gridwidth\":2},\"yaxis\":{\"backgroundcolor\":\"#E5ECF6\",\"gridcolor\":\"white\",\"linecolor\":\"white\",\"showbackground\":true,\"ticks\":\"\",\"zerolinecolor\":\"white\",\"gridwidth\":2},\"zaxis\":{\"backgroundcolor\":\"#E5ECF6\",\"gridcolor\":\"white\",\"linecolor\":\"white\",\"showbackground\":true,\"ticks\":\"\",\"zerolinecolor\":\"white\",\"gridwidth\":2}},\"shapedefaults\":{\"line\":{\"color\":\"#2a3f5f\"}},\"annotationdefaults\":{\"arrowcolor\":\"#2a3f5f\",\"arrowhead\":0,\"arrowwidth\":1},\"geo\":{\"bgcolor\":\"white\",\"landcolor\":\"#E5ECF6\",\"subunitcolor\":\"white\",\"showland\":true,\"showlakes\":true,\"lakecolor\":\"white\"},\"title\":{\"x\":0.05},\"mapbox\":{\"style\":\"light\"}}},\"polar\":{\"domain\":{\"x\":[0.0,1.0],\"y\":[0.0,1.0]},\"angularaxis\":{\"direction\":\"clockwise\",\"rotation\":90}},\"legend\":{\"tracegroupgap\":0},\"title\":{\"text\":\"Region: Mannar ( MFI = 8.8 )\"}},                        {\"responsive\": true}                    ).then(function(){\n",
       "                            \n",
       "var gd = document.getElementById('e44555f0-5917-4bcc-ac9a-804e2fb6f997');\n",
       "var x = new MutationObserver(function (mutations, observer) {{\n",
       "        var display = window.getComputedStyle(gd).display;\n",
       "        if (!display || display === 'none') {{\n",
       "            console.log([gd, 'removed!']);\n",
       "            Plotly.purge(gd);\n",
       "            observer.disconnect();\n",
       "        }}\n",
       "}});\n",
       "\n",
       "// Listen for the removal of the full notebook cells\n",
       "var notebookContainer = gd.closest('#notebook-container');\n",
       "if (notebookContainer) {{\n",
       "    x.observe(notebookContainer, {childList: true});\n",
       "}}\n",
       "\n",
       "// Listen for the clearing of the current output cell\n",
       "var outputEl = gd.closest('.output');\n",
       "if (outputEl) {{\n",
       "    x.observe(outputEl, {childList: true});\n",
       "}}\n",
       "\n",
       "                        })                };                });            </script>        </div>"
      ]
     },
     "metadata": {},
     "output_type": "display_data"
    }
   ],
   "source": [
    "# Plot the data \n",
    "fig = px.line_polar(plotdf, r = 'value', theta = 'variable', line_close = True, \n",
    "                    title=\"Region: \"+w.result+\" ( MFI = {mfi_t:.1f} )\".format(mfi_t=MFI))\n",
    "\n",
    "fig.show()"
   ]
  },
  {
   "cell_type": "code",
   "execution_count": null,
   "id": "268e5fc7",
   "metadata": {},
   "outputs": [],
   "source": []
  },
  {
   "cell_type": "code",
   "execution_count": null,
   "id": "5b7e9353",
   "metadata": {},
   "outputs": [],
   "source": []
  },
  {
   "cell_type": "code",
   "execution_count": null,
   "id": "30b6b7c2",
   "metadata": {},
   "outputs": [],
   "source": []
  }
 ],
 "metadata": {
  "kernelspec": {
   "display_name": "Python 3",
   "language": "python",
   "name": "python3"
  },
  "language_info": {
   "codemirror_mode": {
    "name": "ipython",
    "version": 3
   },
   "file_extension": ".py",
   "mimetype": "text/x-python",
   "name": "python",
   "nbconvert_exporter": "python",
   "pygments_lexer": "ipython3",
   "version": "3.8.8"
  }
 },
 "nbformat": 4,
 "nbformat_minor": 5
}
